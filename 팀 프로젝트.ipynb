{
 "cells": [
  {
   "cell_type": "code",
   "execution_count": 1,
   "metadata": {},
   "outputs": [
    {
     "name": "stdout",
     "output_type": "stream",
     "text": [
      "지역명을 입력해주세요=경기도\n",
      "68246\n",
      "149216.92711660758\n"
     ]
    }
   ],
   "source": [
    "import csv\n",
    "f = open('전국cctv표준데이터.csv')\n",
    "data = csv.reader(f)\n",
    "next(data)\n",
    "data = list(data)\n",
    "\n",
    "name = input('지역명을 입력해주세요=')\n",
    "s = 0\n",
    "for row in data :     \n",
    "    if name in row[2] :\n",
    "        for i in row[4] :\n",
    "            s = s + int(i)\n",
    "print(s)\n",
    "\n",
    "g = open('복사본 행정구역_현황_수정.csv')\n",
    "data1 = csv.reader(g)\n",
    "next(data1)\n",
    "next(data1)\n",
    "next(data1)\n",
    "next(data1)\n",
    "for row2 in data1 :\n",
    "    if name in row2[0] :\n",
    "        h = int(row2[2])/s\n",
    "print(h)"
   ]
  },
  {
   "cell_type": "code",
   "execution_count": null,
   "metadata": {
    "collapsed": true
   },
   "outputs": [],
   "source": []
  },
  {
   "cell_type": "code",
   "execution_count": null,
   "metadata": {
    "collapsed": true
   },
   "outputs": [],
   "source": []
  }
 ],
 "metadata": {
  "kernelspec": {
   "display_name": "Python 3",
   "language": "python",
   "name": "python3"
  },
  "language_info": {
   "codemirror_mode": {
    "name": "ipython",
    "version": 3
   },
   "file_extension": ".py",
   "mimetype": "text/x-python",
   "name": "python",
   "nbconvert_exporter": "python",
   "pygments_lexer": "ipython3",
   "version": "3.6.1"
  }
 },
 "nbformat": 4,
 "nbformat_minor": 2
}
